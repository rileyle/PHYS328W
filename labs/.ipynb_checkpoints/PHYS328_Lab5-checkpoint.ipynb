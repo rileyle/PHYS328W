{
 "cells": [
  {
   "cell_type": "markdown",
   "metadata": {},
   "source": [
    "# PHYS328W Lab 5 Log Book: Transistor Circuits"
   ]
  },
  {
   "cell_type": "markdown",
   "metadata": {},
   "source": [
    "## Prep\n",
    "\n",
    "Prepare by reading Section 4 of the notes.\n",
    "\n",
    "> *Transistors are the \"active ingredient\" of the audio amplifier we will use to amplify the signal from the antenna and drive the speaker in our AM radio reciever.*\n",
    "\n",
    "Keep this notebook and any files it includes in your shared `PHYS328W_yourname/Lab5` folder on OneDrive."
   ]
  },
  {
   "cell_type": "markdown",
   "metadata": {},
   "source": [
    "## Transistor Behavior"
   ]
  },
  {
   "cell_type": "markdown",
   "metadata": {},
   "source": [
    "### Experiment\n",
    "\n",
    "![Circuit for studying transistor behavior](https://rileyle.github.io/PHYS328W/assets/img/ebersmollcircuit.svg)\n",
    "\n",
    "Figure 1: Schematic of the circuit you will use in lab to test the Ebers-Moll equation in the active region\n",
    "of an NPN BJT.\n",
    "\n",
    "1. Make sure the power switch on your prototyping board is off.\n",
    "2. Find 100 $\\Omega$ and 1 k$\\Omega$ resistors, a 10 k$\\Omega$ pot, and a 2N3904 NPN transistor.\n",
    "3. Measure the resistances of the 100 $\\Omega$ and 1 k$\\Omega$ resistors with a DMM.\n",
    "4. Construct the circuit shown in Figure 1.\n",
    "5. Use the DMM to confirm which direction to turn the pot to increase/decrease the resistance. This depends on how the pot is oriented on the prototyping board relative to the rest of the circuit.\n",
    "6. Turn the pot all the way down so that the transistor will start in the “off” state, and turn on the power to your prototyping board.\n",
    "7. Turn on the prototyping board, and set the positive variable supply voltage to 15 V.\n",
    "8. While monitoring the voltage drop across the 100 $\\Omega$ collector resistor, slowly turn up the pot, collecting several sets of $I_C$, $I_E$, and $V_{BE}$ measurements in the range over which $I_C$ and $I_E$ vary.\n",
    "   - Use Ohm’s law to determine $I_C$ and $I_E$ from the measured voltage drops across the collector and emitter resistors and their measured resistances.\n",
    "   - Note that $V_{BE}$ is not the potential difference between the base and ground. The DMM probe placement is illustrated in Figure 1.\n",
    "   - Map the “off” and active states of the transistor. If the emitter potential is held above that of the base, the transistor will no longer be able to operate as advertised. You should see this happen very close to the top of the range of the pot."
   ]
  },
  {
   "cell_type": "markdown",
   "metadata": {},
   "source": [
    "### Analysis\n",
    "\n",
    "1. Plot $\\ln(I_C)$ vs. $V_{BE}$, compare it with the behavior predicted by the Ebers-Moll equation (Equation 29 in the notes).\n",
    "2. If the Ebers-Moll equation appears to be a reasonable model, determine values of the leakage current $I_o$ and the temperature by fitting a line to the portion of your $\\ln(I_C)$ vs. $V_{BE}$ graph in the active region.\n",
    "3. Calculate the base current $I_B = I_E − I_C$ at each value of $V_{BE}$.\n",
    "4. Determine $h_{FE}$ values from your $I_B$ and $I_C$ values, and make a graph of $h_{FE}$ vs. $V_{BE}$."
   ]
  },
  {
   "cell_type": "markdown",
   "metadata": {},
   "source": [
    "## Common Emitter Amplifier"
   ]
  },
  {
   "cell_type": "markdown",
   "metadata": {},
   "source": [
    "### Design\n",
    "\n",
    "![Common emitter amplifier](https://rileyle.github.io/PHYS328W/assets/img/commonemitter.svg)\n",
    "\n",
    "Figure 2: Schematic of an AC coupled common emitter amplifier.\n",
    "\n",
    "Select resistor and capacitor values for the AC coupled common emitter amplifier shown in Figure 2,\n",
    "following the process described in Section 4.4 of the notes. Design your amplifier to meet the following\n",
    "specifications, within about 10%, using available resistors and capacitors.\n",
    "\n",
    "- Quiescent current: $I_C = 1$ mA\n",
    "- Voltage gain: $A_v = −20$\n",
    "- Output range: $−5~\\mathrm{V} \\leq V_{out} \\leq 5~\\mathrm{V}$ with $V_S = 10$ V\n",
    "- Signal frequencies: $f > 100$ Hz\n",
    "\n",
    "It will be helpful to recall that from Lab 2 that the 3 dB point of a high-pass filter is $f_{3dB} = \\frac{1}{2\\pi R C}$ .\n",
    "\n",
    "Do all of your design calculations here in your log book."
   ]
  },
  {
   "cell_type": "markdown",
   "metadata": {},
   "source": [
    "### Experiment\n",
    "\n",
    "1. Collect the resistors and capacitors you need, and measure their values with a DMM.\n",
    "2. Build the circuit you designed. If possible, keep using the same transistor.\n",
    "3. Use the variable DC power supply on the breadboard for $V_S$ .\n",
    "4. Measure the quiescent collector current $I_C$ , collector voltage $V_C$ , base voltage $V_B$ , and emitter voltage $V_E$ , and compare them to what you expect based on your design calculations.\n",
    "5. Use the function generator to supply a sinusoidal input signal $V_{in}$. Set the amplitude of the input signal to give an output signal with a 1 V amplitude $V_{out}$, comfortably within the $\\pm 5~\\mathrm{V}$ design range. Make sure to do this at a frequency well above the 3 dB point.\n",
    "6. Measure the voltage gain $A_v$ at several frequencies from 10 Hz to 1 MHz, concentrating your points in the low-frequency range where $A_v$ changes, and make a plot of the measurements.\n",
    "7. Measure the 3 dB point of the amplifier.\n",
    "8. Investigate what happens to the output signal when you increase the amplitude of the input signal so that you approach the $\\pm 5~\\mathrm{V}$ limits of the output voltage."
   ]
  },
  {
   "cell_type": "markdown",
   "metadata": {},
   "source": [
    "## Products\n",
    "\n",
    "### Log Book\n",
    "\n",
    "This log book (the `.ipynb` file) along with all of the image files it includes should already be in your shared `PHYS328W_yourname/Lab5` folder on OneDrive, so there is no need to upload those to Canvas.\n",
    "\n",
    "### Report\n",
    "\n",
    "Upload to the Lab 5 Report assignment in Canvas the PDF of a brief $\\LaTeX$ report in which you ...\n",
    "- Include as figures ...\n",
    "  - The circuit schematics.\n",
    "  - Your graphs of $\\ln(I_C)$ vs. $V_{BE}$ and $h_{FE}$ vs. $V_{BE}$ for the transistor you studied.\n",
    "  - Your graph of $A_v$ vs $f$ for the amplifier.\n",
    "- Comment on the degree to which your measurements in the active region of the transistor are compatible with the Ebers-Moll equation.\n",
    "- Report the values of $I_o$ and $T$ you determined for your transistor.\n",
    "- Report the values of the components you determined in your design of the common-emitter amplifier.\n",
    "- Comment on the agreement between your design and measured values of the quiescent $I_C$, $V_C$, $V_B$, $V_E$, and the 3 dB point of the amplifier."
   ]
  }
 ],
 "metadata": {
  "kernelspec": {
   "display_name": "Python 3",
   "language": "python",
   "name": "python3"
  },
  "language_info": {
   "codemirror_mode": {
    "name": "ipython",
    "version": 3
   },
   "file_extension": ".py",
   "mimetype": "text/x-python",
   "name": "python",
   "nbconvert_exporter": "python",
   "pygments_lexer": "ipython3",
   "version": "3.8.10"
  }
 },
 "nbformat": 4,
 "nbformat_minor": 4
}
