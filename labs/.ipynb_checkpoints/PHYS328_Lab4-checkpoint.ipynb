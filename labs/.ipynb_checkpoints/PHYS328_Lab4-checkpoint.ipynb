{
 "cells": [
  {
   "cell_type": "markdown",
   "metadata": {},
   "source": [
    "# PHYS328W Lab 4 Log Book: Diode Circuits"
   ]
  },
  {
   "cell_type": "markdown",
   "metadata": {},
   "source": [
    "## Prep\n",
    "\n",
    "Prepare by reading Section 3 of the notes.\n",
    "\n",
    "> *We will use a special diode with a small diode drop in the demodulator of our AM radio reciever circuit. The demodulator removes the radio-frequency oscillations in the signal, leaving behind the audio component.*\n",
    "\n",
    "Keep this notebook and any files it includes in your shared `PHYS328W_yourname/Lab4` folder on OneDrive."
   ]
  },
  {
   "cell_type": "markdown",
   "metadata": {},
   "source": [
    "## Experiments"
   ]
  },
  {
   "cell_type": "markdown",
   "metadata": {},
   "source": [
    "### Diode - Resistor Voltage Divider\n",
    "\n",
    "![Diode-resistor voltage divider schematic](https://rileyle.github.io/PHYS328W/assets/img/diodevdivider.svg)\n",
    "\n",
    "Figure 1: A diode-resistor voltage divider.\n",
    "\n",
    "The circuit in Figure 1 is called a half-wave rectifier. Investigate the 1N4148, 1N5711, and the two\n",
    "types of Germanium point-contact diodes as follows.\n",
    "\n",
    "1. Use the diode setting on your DMM to measure the forward voltage drop $V_f$ of each of the four types of diode. (We will want to use a diode with a small $V_f$ in our AM radio later in the semester.)\n",
    "\n",
    "2. Construct the circuit in Figure 1 using a 10 k$\\Omega$ resistor and a 1N4148 diode.\n",
    "\n",
    "3. Display $V_{in}$ and $V_{out}$ together on the oscilloscope. Use the cursors (not the automatic measurement) to measure the difference in the *amplitude* of $V_{in}$ and the *peak-to-peak voltage* of $V_{out}$. This difference is the forward voltage drop of the diode.\n",
    "\n",
    "4. Take a picture or export an image of the oscilloscope display for your log book and report."
   ]
  },
  {
   "cell_type": "markdown",
   "metadata": {},
   "source": [
    "## Products\n",
    "\n",
    "### Log Book\n",
    "\n",
    "This log book (the `.ipynb` file) along with all of the image files it includes should already be in your shared `PHYS328W_yourname/Lab4` folder on OneDrive, so there is no need to upload those to Canvas.\n",
    "\n",
    "### Report\n",
    "\n",
    "Upload to the Lab 4 Report assignment in Canvas the PDF of a brief $\\LaTeX$ report in which you ...\n",
    "- Include as figures ...\n",
    "  - The circuit schematic.\n",
    "  - A representative image of the oscilloscope display.\n",
    "- Report the forward voltage drop measurements of the 1N4148, 1N5711, and both Germanium point-contact diodes.\n",
    "- Comment on the impact of the forward diode drop on the behavior of the circuit."
   ]
  }
 ],
 "metadata": {
  "kernelspec": {
   "display_name": "Python 3",
   "language": "python",
   "name": "python3"
  },
  "language_info": {
   "codemirror_mode": {
    "name": "ipython",
    "version": 3
   },
   "file_extension": ".py",
   "mimetype": "text/x-python",
   "name": "python",
   "nbconvert_exporter": "python",
   "pygments_lexer": "ipython3",
   "version": "3.8.10"
  }
 },
 "nbformat": 4,
 "nbformat_minor": 4
}
