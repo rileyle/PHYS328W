{
 "cells": [
  {
   "cell_type": "markdown",
   "metadata": {},
   "source": [
    "# PHYS328W Lab 6 Log Book: AM Radio Receiver\n",
    "\n",
    "As the culminating project of this course, you will build and test a simple AM radio receiver in stages\n",
    "as outlined below.\n",
    "\n",
    "![AM Radio Receiver](https://rileyle.github.io/PHYS328W/assets/img/amradiolabels.svg)\n",
    "\n",
    "Figure 1: Schematic of a simple AM radio receiver.\n",
    "\n",
    "The circuit in Figure 1 is a simple AM radio receiver. AM stands for amplitude modulation. Each AM radio station broadcasts at a fixed frequency, and the information is encoded as variations in the amplitude of the carrier signal. In the United States, Radio stations in the AM band are assigned carrier frequencies in the 535-1705 kHz range at 10 kHz intervals. In order to distinguish stations, an AM radio receiver must have a tuner — an LC band pass filter — with a bandwidth $\\geq$10 kHz. The tuner stage in Figure 1 consists of a ferrite-core loopstick antenna in parallel with a variable capacitor. To recover the information in the signal from an AM station, usually an audio signal in the 10 Hz - 10 kHz range, a **demodulator** is used to produce a signal proportional to the amplitude of the carrier signal. The demodulator in Figure 1 is a diode envelope detector. It acts as both a half-wave rectifier and low-pass filter. A Germanium point-contact diode with a very small forward diode drop is used to minimize the loss of signal amplitude.\n",
    "\n",
    "The signal from the demodulator feeds an LM386 audio amplifier powered by a 9 V battery driving a speaker. A potentiometer, dividing the output signal from the demodulator stage, is used for volume control."
   ]
  },
  {
   "cell_type": "markdown",
   "metadata": {},
   "source": [
    "## Loopstick Antenna\n",
    "\n",
    "![Loopstick antenna](https://rileyle.github.io/PHYS328W/assets/img/loopstick.svg)\n",
    "\n",
    "Figure 2: Winding a loopstick antenna.\n",
    "\n",
    "1. Wrap the ferrite rod in a layer of paper secured with tape.\n",
    "2. You have about 12 feet of 28 gauge wire. Leaving about 2 inches for a lead, tape the wire to the paper sleeve as shown in panel (a) of Figure 2.\n",
    "3. Wind 50 tightly-packed turns and secure them in place with tape. Double the wire to form a roughly 2 inch twisted lead as shown in panel (b) of Figure 2.\n",
    "4. Wind 30 more turns in the same direction as the first 50 and secure them with tape, leaving a 2 inch lead at the end as shown in panel (c) of Figure 2.\n",
    "5. Scrape the red plastic insulation off of the ends of the three leads, and ask your instructor to solder breadboard jumpers to the leads.\n",
    "\n",
    "![Circuit for measuring the inductance of the antenna](https://rileyle.github.io/PHYS328W/assets/img/rlccircuit.svg)\n",
    "\n",
    "Figure 3: A series RLC voltage divider. You will use this circuit with a known capacitance C to measure the inductance of your loopstick antenna.\n",
    "\n",
    "6. Construct the circuit shown in Figure 3 with a 1 k$\\Omega$ resistor and a known capacitor in the 0.01-0.1 $\\mu$F range (measure C with a DMM), and use it to determine the resonant frequency of the circuit.\n",
    "7. Repeat the process with the 30-turn and 50-turn segments of the antenna.\n",
    "8. Use your measured capacitance and frequencies to determine the inductances of the full antenna and the 30-turn and 50-turn segments."
   ]
  },
  {
   "cell_type": "markdown",
   "metadata": {},
   "source": [
    "## Tuner\n",
    "\n",
    "![Circuit for testing the tuner](https://rileyle.github.io/PHYS328W/assets/img/rlctuner.svg)\n",
    "\n",
    "Figure 4: The tuner stage of a simple AM receiver consisting of a parallel RLC voltage divider.\n",
    "\n",
    "1. Construct the circuit shown in Figure 4 using a 1 MΩ resistor, the variable capacitor, and your loopstick antenna as the inductor. The function generator and the resistor will approximate a signal induced in the antenna. A large resistor $R$ is placed in series with the function generator, to approximate an open circuit (infinite resistance).\n",
    "2. Determine the range of resonant frequencies accessible with the full antenna and the 30-turn and 50-turn segments.\n",
    "3. Measure the bandwidth of the tuner at a resonant frequency of 1 MHz. The large resistor $R$ in series with the function generator broadens the bandwidth of the tuner somewhat. The actual bandwidth for signals induced in the loopstick antenna by radio waves will be better than what you measure here.\n",
    "4. Make note of the rough orientation of the capacitor knob at a resonant frequency of 1 MHz. (Maybe take a picture of the capacitor.)"
   ]
  },
  {
   "cell_type": "markdown",
   "metadata": {},
   "source": [
    "## Demodulator\n",
    "\n",
    "![Circuit for testing the demodulator](https://rileyle.github.io/PHYS328W/assets/img/demodulatortest.svg)\n",
    "\n",
    "Figure 5: Circuit for testing the tuner and demodulator.\n",
    "\n",
    "1. Construct the circuit shown in Figure 4 with a 1 M$\\Omega$ resistor as $R_1$, the variable capacitor as $C_1$, your loopstick antenna as the inductor $L$, a Germanium point-contact diode, a 100 pF capacitor as $C_2$, and the full resistance of the 500 k$\\Omega$ log pot as $R_2$. The function generator and the resistor will approximate a signal induced in the loopstick antenna.\n",
    "2. Set the channel of the oscilloscope used to measure the output signal to DC coupling, and center ground on the screen so facilitate measurement of its DC component. *Note: You may see that some AC oscillation may have made it through the demodulator, but your goal here is to measure the average (DC) value of the output signal, not the amplitude of any oscillations you see. If there is no DC component to the output signal, your demodulator is not demodulating – ask for help.*\n",
    "3. Set the function generator to a frequency of 1 MHz, display the input and output signals on the oscilloscope, and tune the variable capacitor to find resonance.\n",
    "4. Measure the average (DC) output voltage $|\\bar{V}_{out}|$ as a function of the amplitude of the input signal $|V_{in}|$. Cover a range of output voltages from the minimum measurable level up to 100 mV. We will need a signal of this magnitude for the next stage of the radio. This will give you an idea of the signal amplitude required in the loopstick antenna.\n",
    "   *Note that $|V_{in}|$ is measured across the tuner, not across the output of the function generator. This measurement will give you an idea of the minimum signal from the loopstick antenna required to produce a usable output voltage from the demodulator. Also note that you should not be measuring the amplitude of oscillations in $|V_{out}|$. Instead, measure the average DC voltage $|\\bar{V}_{out}|$. This is proportional to the amplitude of the input signal, which carries the information in an AM radio signal.*"
   ]
  },
  {
   "cell_type": "markdown",
   "metadata": {},
   "source": [
    "## Audio Amplifier\n",
    "\n",
    "![Audio amplifier circuit](https://rileyle.github.io/PHYS328W/assets/img/lm386.svg)\n",
    "\n",
    "Figure 6: An LM386 audio amplifier with voltage gain A v ≈ 200 driving a speaker.\n",
    "\n",
    "We are using a LM386 audio amplifier to drive the speaker in the radio receiver. Have a look at the data sheet (under Files -> Data Sheets in Canvas). The LM386 has a power rating of 0.7 W, which is in no danger of overloading the the 8 $\\Omega$, 2 W speaker. The input voltage should be kept within $\\pm$0.4 V to avoid permanent damage to the amplifier. However, with the gain set to $A_v \\approx 200$, a much smaller limit on the input signal is needed to avoid saturating the output signal.\n",
    "\n",
    "1. Construct the circuit shown in Figure 6, but do not connect the 9 V battery until you have completed step 4 below.\n",
    "   - Be sure to orient the electrolytic capacitors as indicated in Figure 6.\n",
    "   - In order to minimize noise, lay out the circuit as compactly as possible, using short lengths of wire, close to the breadboard. Twist the leads from the 9 V battery and speaker together to minimize the pickup of electronic noise.\n",
    "   - Use the black ground connector on the breadboard to ground your circuit. This is connected to the metal plate under the breadboard (the “back plane”) and will help shield the circuit from ambient electronic noise.\n",
    "2. Assuming voltage gain $A_v = 200$, calculate the maximum input signal amplitude that will keep the power delivered by the amplifier below its 0.7 W rating. (The speaker presents a load resistance of 8 $\\Omega$ and the power dissipated is given by $P = V^2/R$.)\n",
    "3. Use a function generator to drive the circuit, setting the frequency of the input signal to 400 Hz.\n",
    "4. Adjust the output voltage of the oscilloscope and the pot to set the amplitude of the input signal V in to the amplifier at or below the maximum value you calculated in step 2. The lowest amplitude signal from the function generator, even with the 20 dB attenuator, will not be small enough. You will need to turn down the pot.\n",
    "5. Connect the 9 V battery, and verify that the speaker produces an audible tone.\n",
    "6. Use the oscilloscope to measure the amplitudes of the input and output signals $|V_{in}|$ and $|V_{out}|$ (labeled in Figure 6) to measure the voltage gain. Use the pot to reduce the amplitude of the input signal if the amplifier saturates (or if the sound is too loud)."
   ]
  },
  {
   "cell_type": "markdown",
   "metadata": {},
   "source": [
    "## AM Radio Receiver\n",
    "\n",
    "![AM Radio Receiver](https://rileyle.github.io/PHYS328W/assets/img/amradio.svg)\n",
    "![AM Radio Receiver Components](https://rileyle.github.io/PHYS328W/assets/img/amradio_components.png)\n",
    "\n",
    "Figure 7: A simple AM receiver consisting of an LC tuner, a diode envelope detector, and an LM386\n",
    "audio amplifier driving a speaker.\n",
    "\n",
    "1. Construct the final circuit shown in Figure 7.\n",
    "2. Tune in a radio station near 1 MHz. You can find a list of stations, frequencies, and signal strengths using [https://radio-locator.com](https://radio-locator.com). Identify your station by measuring the carrier signal frequency with the oscilloscope, and verify it by call sign.\n",
    "3. If you can identify the stations, find the highest- and lowest-frequency stations you can tune in."
   ]
  },
  {
   "cell_type": "markdown",
   "metadata": {},
   "source": [
    "## Products\n",
    "\n",
    "The final products of this course is the AM radio receiver and a paper describing its design and testing.\n",
    "\n",
    "A partial draft of the paper, covering only the loopstick antenna (construction and inductance measurements), the tuner (measured frequency range and bandwidth at 1 MHz), and the demodulator (DC output voltage vs. input signal amplitude) in three sections, is due prior to the final paper. Include as figures a plot of your measured $|\\bar{V}_{out}|$ vs. $|V_{in}|$.\n",
    "\n",
    "The final paper should include an Abstract, an Introduction section, and sections describing the tuner, demodulator, audio amplifier (voltage gain measurement), and the completed receiver."
   ]
  }
 ],
 "metadata": {
  "kernelspec": {
   "display_name": "Python 3",
   "language": "python",
   "name": "python3"
  },
  "language_info": {
   "codemirror_mode": {
    "name": "ipython",
    "version": 3
   },
   "file_extension": ".py",
   "mimetype": "text/x-python",
   "name": "python",
   "nbconvert_exporter": "python",
   "pygments_lexer": "ipython3",
   "version": "3.8.5"
  }
 },
 "nbformat": 4,
 "nbformat_minor": 4
}
