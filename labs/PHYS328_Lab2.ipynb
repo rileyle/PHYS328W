{
 "cells": [
  {
   "cell_type": "markdown",
   "metadata": {},
   "source": [
    "# PHYS328W Lab 2 Log Book: RC Filters"
   ]
  },
  {
   "cell_type": "markdown",
   "metadata": {},
   "source": [
    "## Prep\n",
    "\n",
    "Prepare by reading Section 2 of the notes. You will be studying a voltage divider consisting of a resistor and a capacitor.\n",
    "\n",
    "Keep this notebook and any files it includes in your shared `PHYS328W_yourname/Lab2` folder on OneDrive."
   ]
  },
  {
   "cell_type": "markdown",
   "metadata": {},
   "source": [
    "## Experiment\n",
    "\n",
    "![Schematic](https://rileyle.github.io/PHYS328W/assets/img/rcvdividers.svg)\n",
    "\n",
    "Figure 1: Schematics of two series RC voltage dividers.\n",
    "\n",
    "1. Check that your oscilloscope probes are compensated. \n",
    "\n",
    "    *See \"Manual probe compensation\" in the User Manual for your oscilloscope.*\n",
    "\n",
    "2. Choose a resistor on the order of 1 k$\\Omega$ and a capacitor on the order of 0.01 $\\mu$F, and measure their values using the DMM.  \n",
    "\n",
    "3. Construct either one of the circuits in Figure 1 on the breadboard using the function generator with a sinusoidal wave form and an amplitude of 1 V as your voltage source.\n",
    "\n",
    "4. Set up the oscilloscope to display $V_{in}$ and $V_{out}$ together, and use the oscilloscope and function generator to explore the frequency dependence of the voltage gain $|V_{out}|/|V_{in}|$, where $|V_{out}|$ and $|V_{in}|$ are the amplitudes of the signals. \n",
    "\n",
    "    *See \"Application examples\" $\\rightarrow$ \"Taking simple measurements\" $\\rightarrow$ \"Measuring two signals\" in the User Manual for your oscilloscope.*\n",
    "\n",
    "5. Use the vertical position knobs on channels 1 and 2 to center both traces vertically, so that they share the same vertical zero point.\n",
    "  \n",
    "6. Once you have a sense of the behavior of the circuit, measure the amplitudes $|V_{in}|$ and $|V_{out}|$ and the phase angle (really, you'll be measuring $\\Delta t$) at at least 10 frequencies that span the range over which the gain and phase angle are changing significantly and that cover the range of $V_{out}/V_{in}$ values well. The phase angle $\\phi$ is related to the time difference $\\Delta t = t_{V_{out}}-t_{V_{in}}$ between $V_{out}$ and $V_{in}$ via Equation 27 in the notes. \n",
    "\n",
    "    *Pay attention to the sign of $\\Delta t$. As we have defined it, if $t_{V_{out}} > t_{V_{in}}$, $\\Delta t$ and $\\phi$ are positive.*\n",
    "\n",
    "    *To set up automated amplitude measurements, see \"Reference\" $\\rightarrow$ \"Measure\" in the User Manual for your oscilloscope, and for help measuring $\\Delta t$ with the cursors, see \"Application examples\" $\\rightarrow$ \"Taking Cursor Measurements.\"*\n",
    "\n",
    "7. Measure the 3 dB point of the circuit. (See Appendix E of the notes.) Assign an uncertainty to this result."
   ]
  },
  {
   "cell_type": "markdown",
   "metadata": {},
   "source": [
    "## Analysis\n",
    "\n",
    "1. Create measured voltage gain vs. frequency and phase angle vs. frequency plots.\n",
    "2. Derive expressions for the gain, phase angle, and 3 dB point of the circuit, and calculate the 3 dB point. You may find Section 2.3 and Appendix E of the notes helpful. Include an image(s) of your derivations here.\n",
    "3. Add theoretical curves to the plots of measured voltage gain vs. frequency and phase angle vs. frequency."
   ]
  },
  {
   "cell_type": "markdown",
   "metadata": {},
   "source": [
    "## Products\n",
    "\n",
    "### Log Book\n",
    "\n",
    "This log book (the `.ipynb` file) along with all of the image files it includes should already be in your shared `PHYS328W_yourname/Lab2` folder on OneDrive, so there is no need to upload those to Canvas. \n",
    "\n",
    "### Report\n",
    "\n",
    "Upload to the Lab 2 Report assignment in Canvas the PDF of a brief $\\LaTeX$ report in which you ...\n",
    "- Include as figures ...\n",
    "  - The circuit schematic.\n",
    "  - Your expressions for the voltage gain, phase angle, and 3 dB point of the circuit.\n",
    "  - Your measured and theoretical voltage gain vs. frequency and phase angle vs. frequency plots.\n",
    "- Discuss the degree of agreement between your measurements and theoretical predictions.\n",
    "- Identify your circuit as either a high-pass or low-pass filter, and explain what that means and why you might want to use a filter like this in a circuit."
   ]
  }
 ],
 "metadata": {
  "kernelspec": {
   "display_name": "Python 3",
   "language": "python",
   "name": "python3"
  },
  "language_info": {
   "codemirror_mode": {
    "name": "ipython",
    "version": 3
   },
   "file_extension": ".py",
   "mimetype": "text/x-python",
   "name": "python",
   "nbconvert_exporter": "python",
   "pygments_lexer": "ipython3",
   "version": "3.8.10"
  }
 },
 "nbformat": 4,
 "nbformat_minor": 4
}
