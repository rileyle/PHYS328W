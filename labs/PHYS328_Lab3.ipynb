{
 "cells": [
  {
   "cell_type": "markdown",
   "metadata": {},
   "source": [
    "# PHYS328W Lab 3 Log Book: An RLC Filter"
   ]
  },
  {
   "cell_type": "markdown",
   "metadata": {},
   "source": [
    "## Prep\n",
    "\n",
    "Prepare by reviewing Section 2 of the notes. You will be studying an RLC filter. The example in Section 2.3 of the notes does not describe the same circuit as this one, but the method of analysis is the same.\n",
    "\n",
    "> *This filter circuit is the first component in our AM radio. Radio waves interacting with an antenna will play the role of the function generator, and we will use a variable capacitor in the RLC filter to \"tune\" the circuit to respond to a narrow frequency range.*\n",
    "\n",
    "Keep this notebook and any files it includes in your shared `PHYS328W_yourname/Lab3` folder on OneDrive."
   ]
  },
  {
   "cell_type": "markdown",
   "metadata": {},
   "source": [
    "## Design\n",
    "\n",
    "![Schematic](https://rileyle.github.io/PHYS328W/assets/img/rlcparallel.svg)\n",
    "\n",
    "Figure 1: Schematics of a Parallel RLC voltage divider.\n",
    "\n",
    "1. Derive expressions for the voltage gain, phase angle, and resonant frequency of the circuit. *(See Section 2 of the notes.)* Inlude images of your work here.\n",
    "    \n",
    "2. Pick out an inductor in the 100-1000 $\\mu$H range, and then find a capacitor you predict will give a resonant frequency in the 10 kHz - 100 kHz range. Recall that the angular frequency $\\omega$, expressed in rad/s, and the frequency $f$, expressed in Hz, on the display of your function generator are not the same ($\\omega = 2\\pi f$)."
   ]
  },
  {
   "cell_type": "markdown",
   "metadata": {},
   "source": [
    "## Experiment\n",
    "\n",
    "1. Find a $\\approx$1 M$\\Omega$ resistor, and measure the values of $R$ and $C$ with a DMM.\n",
    "\n",
    "2. Build the circuit in Figure 1.\n",
    "\n",
    "3. Set the open-circuit (no load) amplitude of the function generator, or the peak-to-peak voltage swing, which ever one your oscilloscope gives you automatically, to 10 V as measured with the oscilloscope. Use this value for $V$ in in your gain calculations. If you touch the amplitude knob on the function generator, be sure to measure the new value of $V_{in}$. \n",
    "    \n",
    "4. Make measurements to produce voltage gain vs. frequency and phase angle vs. frequency plots. Be sure to cover the range of significant variation voltage gain and phase angle well. \n",
    "\n",
    "5. Measure the resonant frequency of the circuit. The `X-Y` mode of the oscilloscope (see the manual) plots $V_{out}$ vs. $V_{in}$ . This provides a precise way of finding the frequency at which the relative phase between two signals is zero. For a resonant circuit, the relative phase between $V_{out}$ and $V_{in}$ is zero at the resonant frequency. At most frequencies, the trace will resemble a tilted ellipse. When the relative phase between channels is zero, the trace will be a straight line.\n",
    "\n",
    "6. Measure the 3 dB points of the circuit. (See Appendix A of the notes.) There are two of them, because this is a resonant circuit. The difference between the 3 dB-point frequencies is the band width of the circuit.\n",
    "\n",
    "    *We do not have a way to measure $V_{in}$ directly, so measure the the 3 dB points by finding the frequencies at which $V_{out}$ is reduced by a factor $1/\\sqrt{2} \\approx 0.707$ relative to its maximum value. (Be aware that its maximum value may not be equal to $V_{in}$!)*\n",
    "    \n",
    "7. Use your measured values of $C$ and the resonant frequency of the circuit to determine $L$ and its uncertainty."
   ]
  },
  {
   "cell_type": "markdown",
   "metadata": {},
   "source": [
    "## Analysis\n",
    "\n",
    "1. Plot the measured and predicted voltage gain vs. frequency. You should see discrepancies between your measurements and theoretical predictions. This is at least partly due to the fact that we did not include the internal resistance $r_L$ of the inductor. A more realistic version of the circuit is shown in Figure 2. (The output resistance $r_{fg}$ of the function generator is in series with $R$, so you can just replace the value of $R$ with $R + r_{fg}$ in your numerical calculations.) \n",
    "\n",
    "   ![Schematic](https://rileyle.github.io/PHYS328W/assets/img/rlcparallelreal.svg)\n",
    "\n",
    "   Figure 2: A Parallel RLC voltage divider including the internal resistance $r_L$ of the inductor and the output resistance $r_{fg}$ of the function generator.\n",
    "\n",
    "2. Derive expressions for the voltage gain, phase angle, and resonant frequency. \n",
    "\n",
    "   *This will be a complete algebraic mess*, so express $Z_2$ in the form $A + jB$, and then find expressions for the voltage gain and phase angle, in terms of $A$, $B$, and $R$. From there, use $\\tan \\phi = 0$ to find an expression for the resonant frequency. (Including $r_L$ shifts $\\omega_o$.)\n",
    "   \n",
    "   > *This is challenging but doable. Work with others and ask for help!*\n",
    "\n",
    "3. Write functions `A(f)` and `B(f)` and then write functions for the voltage gain `Av(f)` and phase angle `phi(f)` which call your A and B functions. Then use them to add more accurate theoretical curves to your voltage gain and phase angle vs. frequency plots. Adjust the resistance $r_L$ of the inductor to give the best fit of the theoretical curves to your measurements.\n",
    "\n",
    "4. Use your plot to determine the theoretical 3 dB points numerically."
   ]
  },
  {
   "cell_type": "markdown",
   "metadata": {},
   "source": [
    "## Products\n",
    "\n",
    "### Log Book\n",
    "\n",
    "This log book (the `.ipynb` file) along with all of the image files it includes should already be in your shared `PHYS328W_yourname/Lab3` folder on OneDrive, so there is no need to upload those to Canvas.\n",
    "\n",
    "### Report\n",
    "\n",
    "Upload to the Lab 3 Report assignment in Canvas the PDF of a brief $\\LaTeX$ report in which you ...\n",
    "- Include as figures ...\n",
    "  - The circuit schematic.\n",
    "  - Your measured and theoretical voltage gain vs. frequency and phase angle vs. frequency plots.\n",
    "  - A scan/image of your derivation of the expressions for the voltage gain, phase angle, and resonant frequency of the circuit.\n",
    "- Report a result for the resistance of the inductor $r_L$.\n",
    "- Discuss the degree of agreement between your measurements and theoretical predictions."
   ]
  }
 ],
 "metadata": {
  "kernelspec": {
   "display_name": "Python 3 (ipykernel)",
   "language": "python",
   "name": "python3"
  },
  "language_info": {
   "codemirror_mode": {
    "name": "ipython",
    "version": 3
   },
   "file_extension": ".py",
   "mimetype": "text/x-python",
   "name": "python",
   "nbconvert_exporter": "python",
   "pygments_lexer": "ipython3",
   "version": "3.11.4"
  }
 },
 "nbformat": 4,
 "nbformat_minor": 4
}
