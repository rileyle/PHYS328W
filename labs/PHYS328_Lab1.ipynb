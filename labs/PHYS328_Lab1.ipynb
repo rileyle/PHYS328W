{
 "cells": [
  {
   "cell_type": "markdown",
   "metadata": {},
   "source": [
    "# PHYS328W Lab 1 Log Book: Kirchhoff's Rules and Equivalent Circuits"
   ]
  },
  {
   "cell_type": "markdown",
   "metadata": {},
   "source": [
    "## Prep\n",
    "\n",
    "You will build a circuit consisting of a resistor network connected to a power supply and measure its behavior with and without a load resistor. Read [Section 1](https://rileyle.github.io/PHYS328W/notes/p328_notes/node1.html) of the notes to prepare to analyze the circuit using resistor network analysis, Kirchhoff's rules, and Thévenin’s theorem.\n",
    "\n",
    "Keep this notebook and any files it includes in your shared `PHYS328W_yourname/Lab1` folder on OneDrive."
   ]
  },
  {
   "cell_type": "markdown",
   "metadata": {},
   "source": [
    "## Experiments\n",
    "\n",
    "![Schematic](https://rileyle.github.io/PHYS328W/assets/img/thevenincircuit.svg)\n",
    "\n",
    "Figure 1: Schematic of the circuit for testing resistor network analysis, Kirchhoff’s rules, and Thévenin analysis.\n",
    "\n",
    "> *Record all of your measurements in Code cells, defining them as variables for use in later analysis, and include images of your sketches in the Markdown Cells below.*"
   ]
  },
  {
   "cell_type": "markdown",
   "metadata": {},
   "source": [
    "### Resistor Network (No Load)\n",
    "\n",
    "1. Find three different resistors in the 1-10 k$\\Omega$ range, and measure their resistances with a DMM.\n",
    "2. Construct the circuit shown in Figure 1. Use the 5 V power supply on the prototyping board.\n",
    "3. Use a DMM to measure the supply voltage and the voltage drops across the three resistors. Check that your measured voltage drops make sense (i.e. satisfy the loop rule).\n",
    "4. Use the measured resistances and voltage drops to determine all of the unique currents flowing in the circuit. Check that these currents make sense (i.e. satisfy the junction rule).\n",
    "5. Include an image of a sketch of the circuit here, including arrows for all of the unique currents, and label the measured currents and voltage drops. *To get the directions, if the DMM shows a positive voltage reading across a resistor, current is flowing from the point connected to the red lead (V$\\Omega$) to the point connected to the black lead (COM) of the DMM. Current flows \"down hill\" in the potential landscape.* Include the measured current and voltage values with uncertainties in your sketch."
   ]
  },
  {
   "cell_type": "markdown",
   "metadata": {},
   "source": [
    "### Resistor Network (With Load)\n",
    "\n",
    "1. Find a $\\approx$1 k$\\Omega$ resistor to use as a load, and measure its resistance $R_L$ with a DMM.\n",
    "2. Connect the $\\approx$1 k$\\Omega$ resistor across the points labeled \"Output\" in Figure 1.\n",
    "3. Use a DMM to measure the new voltage drops across all of the resistors. Check that your measured voltage drops make sense (i.e. satisfy the loop rule).\n",
    "4. Use the measured resistances and voltage drops to determine all of the unique currents flowing in the circuit. Check that these currents make sense (i.e. satisfy the junction rule).\n",
    "5. Include an image of a sketch the loaded circuit here, including your measured current and voltage values."
   ]
  },
  {
   "cell_type": "markdown",
   "metadata": {},
   "source": [
    "## Analysis\n",
    "\n",
    "### Calculations\n",
    "> *Do all of your numerical calculations in Code cells in this notebook, and include images of theoretical work done by hand.*\n",
    "\n",
    "In each of the analyses described below, use variables ($R_1$, $V_1$, $I_1$, etc.) in your work rather than measured values. At this point, you have measured everything, so really, you know everything about the loaded and unloaded circuits, but for the purpose of this analysis, treat the resistances and the voltage of the power supply $V$ as \"knowns\" and the currents and other voltages (across $R_1$, for example) as \"unknowns,\" and find expressions for the currents and $V_{out}$ in terms of $R_1$, $R_2$, $R_3$, $R_L$ (loaded circuit only), and $V$.\n",
    "\n",
    "1. Use resistor network analysis (see Section 1.3 of the notes) and your measured resistances and supply voltage to calculate all of the currents flowing in the *unloaded* circuit shown in Figure 1 and the open-circuit (no load) output voltage.\n",
    "2. Use Kirchhoff’s rules (see Section 1.4 of the notes) to calculate the currents flowing in the *unloaded* circuit shown in Figure 1 and the open-circuit (no load) output voltage, assuming your measured resistances and supply voltage.\n",
    "3. Verify that your results from steps 1 and 2 agree before proceeding.\n",
    "4. Calculate the Thévenin voltage $V_{th}$ and resistance $R_{th}$ of your unloaded circuit (see Section 1.5 of the notes), treating the voltage across $R_3$ as the output as illustrated by Figure 1.\n",
    "5. Use $V_{th}$ and $R_{th}$ to predict the current through your load resistor driven by your circuit, and compare your prediction with the measured value.\n",
    "\n",
    "### Simulation (LTspice)\n",
    "- Build the circuit without the load resistor in LTspice using your measured resistances and source voltage.\n",
    "- Click on the \"Configure Analysis\" button in the tool bar, click on the \"DC op pnt\" tab, and click \"Ok\".\n",
    "- Run the simulation. The voltages and currents will appear in a separate window. Record them. (If you want to add a voltage or current label, right-click on a wire or component in the schematic and select \"Place .op Data Label\".)\n",
    "- Add the load resistor to the circuit, and run the simulation again, and record the simulated voltages and currents. \n"
   ]
  },
  {
   "cell_type": "markdown",
   "metadata": {},
   "source": [
    "## Products\n",
    "\n",
    "> *Important Note: Although you should collaborate on experimental work, do your own analysis, and write your own log books, reports, and papers. Also produce your own figures (diagrams, graphs, e.g.).*\n",
    "\n",
    "### Log Book\n",
    "\n",
    "This log book (the `.ipynb` file) along with all of the image files it includes should already be in your shared `PHYS328W_yourname/Lab1` folder on OneDrive, so there is no need to upload those to Canvas. \n",
    "\n",
    "### Report\n",
    "\n",
    "Upload to the Lab 1 Report assignment in Canvas the PDF of a brief $\\LaTeX$ report in which you ...\n",
    "- Include a table of measured, predicted, and simulated voltages and currents for both circuits including uncertainties.\n",
    "- Include as figures ...\n",
    "  - Scans/Images of the labeled sketches of your unloaded and loaded circuit from your log book.\n",
    "  - A scan/image of your Kirchhoff’s-rules and Thévenin-equivalent-circuit calculations from your log book.\n",
    "- Discuss the degree of agreement between your measurements and theoretical predictions.\n",
    "- Comment on the degree to which your observations align with Thévenin’s theorem.\n",
    "- Explain why Thévenin’s Theorem is useful.\n"
   ]
  },
  {
   "cell_type": "code",
   "execution_count": null,
   "metadata": {},
   "outputs": [],
   "source": []
  }
 ],
 "metadata": {
  "kernelspec": {
   "display_name": "Python 3 (ipykernel)",
   "language": "python",
   "name": "python3"
  },
  "language_info": {
   "codemirror_mode": {
    "name": "ipython",
    "version": 3
   },
   "file_extension": ".py",
   "mimetype": "text/x-python",
   "name": "python",
   "nbconvert_exporter": "python",
   "pygments_lexer": "ipython3",
   "version": "3.12.3"
  }
 },
 "nbformat": 4,
 "nbformat_minor": 4
}
