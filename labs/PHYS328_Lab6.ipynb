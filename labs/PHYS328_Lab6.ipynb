{
 "cells": [
  {
   "attachments": {},
   "cell_type": "markdown",
   "metadata": {},
   "source": [
    "# PHYS328W Lab 6 Log Book: Operational Amplifiers\n",
    "\n",
    "Prepare by reading [Section 5](https://rileyle.github.io/PHYS328W/notes/p328_notes/node5.html) of the notes.\n",
    "\n",
    "Keep this notebook and any files it includes in your shared `PHYS328W_yourname/Lab6` folder on OneDrive.\n",
    "\n",
    "![Op-amp schematic symbol and connection diagram](https://rileyle.github.io/PHYS328W/assets/img/opamp.svg)\n",
    "\n",
    "Figure 1: (a) Schematic symbol of an operational amplifier, and (b) the connection diagram for the\n",
    "8-pin dual inline package (DIP) of the <TT>LM741</TT> and <TT>LF411</TT> op amps.\n",
    "\n",
    "Amplifier circuits with nice properties&mdash;high gain and high input impedance, for example&mdash;packaged as integrated circuits\n",
    "(ICs), are called **operational amplifiers** or op amps. They are called \"operational\" amplifiers, because they can be used to perform\n",
    "arithmetic operations like addition, subtraction, multiplication, differentiation and integration with signals. The \n",
    "schematic symbol of an op amp is shown in Figure 1 along with the connection diagram for the <TT>LM741</TT> op amp we will use\n",
    "here.\n",
    "\n",
    "![Op-amp differentiator and integrator circuit schematics](https://rileyle.github.io/PHYS328W/assets/img/diff_int.svg)\n",
    "\n",
    "Figure 2: Schematic diagrams of (a) an op amp based differentiator circuit, and (b) an op amp based integrator circuit.\n",
    "\n",
    "In this lab, you will simulate, build, and investigate either the differentiator or the integrator circuit\n",
    "shown in Figure 2. Our strategy for this lab is to use simulations to guide the design.\n"
   ]
  },
  {
   "cell_type": "markdown",
   "metadata": {},
   "source": [
    "## Design (Simulation)\n",
    "***Choose either the differentiator or integrator (or optionally build both, time permitting).***\n",
    "\n",
    "Common to both designs:\n",
    "- LM741 operation amplifier\n",
    "- DC power from two 9 V batteries. ($-9~\\mathrm{V} \\leq V_{out} \\leq 9~\\mathrm{V}$.)\n",
    "- 1 kHz, 1 mV amplitude input signal. (Design to avoid saturating the op amp.)\n",
    "\n",
    "### LTSpice Details (Common to both Circuits)\n",
    "#### Add a model of the LM741 op amp to LTspice\n",
    "- Start a new schematic in LTspice.\n",
    "- Download the PSpice model for the LM741 op amp [here](https://www.ti.com/product/LM741).\n",
    "- Extract the .zip file, and place a copy of the file <TT>lm741.lib</TT> in the same directory with your LTspice files.\n",
    "- Click on the \"Edit text on the schematic\" button (<TT>.t</TT> in the toolbar), select <TT>SPICE directive</TT>, and type <TT>.include lm741.lib</TT>.\n",
    "- Click on the \"Component\" button, and under <TT>\\[OpAmps\\]</TT>, select <TT>opamp2</TT>, and place one in your schematic.\n",
    "- Right click on the \"opamp2\" symbol and set the \"Value\" field to LM741.\n",
    "\n",
    "#### Voltage Sources\n",
    "- Use two 9 V DC voltage sources to supply $\\pm V_S$ to the op amp\n",
    "- To set up a periodic non-sinusoidal signal (for triangle wave/square wave input signals), place a voltage source in the schematic, right click on it, click on \"Advanced\", and select <TT>PULSE</TT>. \n",
    "    - <TT>V<SUB>initial</SUB></TT> and <TT>V<SUB>on</SUB></TT> are the minimum and maximum values of the signal, <TT>T<SUB>rise</SUB></TT> and <TT>T<SUB>fall</SUB></TT> are the rise and fall times of the signal, and <TT>T<SUB>period</SUB></TT> is the period of the signal.\n",
    "    - *Note: Zero rise and fall times cannot be realized in actual circuits. If you set them to zero, LTspice will set them to 10% of <TT>T<SUB>period</SUB></TT>-<TT>T<SUB>on</SUB></TT> by default. You can leave the other parameters blank.*\n",
    "\n",
    "### Transient Analysis\n",
    "- Click on the \"Configure Analysis\" button in the tool bar.\n",
    "- On the \"Transient\" tab, set a \"Stop time\" long enough for the circuit to settle into stable operation. (The capacitor may take some time to discharge or charge to an average value.) This may be many cycles of the input signal.\n",
    "- The \"Maximum time step\" should be much shorter than the period of the driving signal. \n",
    "\n",
    "### Differentiator Design\n",
    "Use LTspice to help you select resistor and capacitor values for the differentiator circuit shown in Figure 2(a). Use a 1 kHz triangle wave input signal with an amplitude of 1 mV to develop your design. \n",
    "- Choose initial values of $R$ and $C$ to give a time constant $RC$ much larger than the period of the design signal.\n",
    "- Choose the initial value of the feedback capacitor $C_f$ to damp oscillations within a single period of the design signal.\n",
    "- Adjust the values of $R$, $C$, and $C_f$ to produce an output signal as close to the expected output signal (see Eq. 53 of the notes) as possible.\n",
    "- Once you are happy with the simulated output, adjust the resistance and capacitance values as needed to match components actually available in the lab.\n",
    "\n",
    "### Integrator Design\n",
    "Use LTspice to help you select resistor and capacitor values for the integrator circuit shown in Figure 2(b). Use a 1 kHz square wave input signal with an amplitude of 1 V to develop your design. \n",
    "- Choose initial values of $R$ and $C$ to give a time constant $RC$ shorter than the period of the slowest signal to be integrated. \n",
    "- Choose the initial value of the feedback resistor $R_f$ to discharge the capacitor on an acceptable time scale without distorting the output of the integrator.\n",
    "- Adjust the values of $R$, $C$, and $R_f$ to produce an output signal as close to the expected output signal (see Eq. 57 of the notes) as possible.\n",
    "- Once you are happy with the simulated output, adjust the resistance and capacitance values as needed to match components actually available in the lab.\n"
   ]
  },
  {
   "cell_type": "markdown",
   "metadata": {},
   "source": [
    "## Experiments\n",
    "\n",
    "- Build the circuit you designed. (Choose actual component values as close to your calculated ones as possible.)\n",
    "\n",
    "- Use a function generator to drive your circuit with the design signal you used in your simulations.\n",
    "\n",
    "- Figure out how to export a screen capture the measured $V_{out}, V_{in}$ vs. time display from your oscilloscope for your report.\n",
    "\n",
    "- Determine empirically the frequency range over which the circuit produces acceptable output.\n",
    "  \n",
    "- Run a final simulation using the measured values of the actual components you used and produce a simulated $V_{out}, V_{in}$ vs. time graph (at 1 kHz) for your report.\n"
   ]
  },
  {
   "cell_type": "markdown",
   "metadata": {},
   "source": [
    "## Products\n",
    "\n",
    "### Log Book\n",
    "\n",
    "This log book (the `.ipynb` file) along with all of the image files it includes should already be in your shared `PHYS328W_yourname/Lab6` folder on OneDrive, so there is no need to upload those to Canvas.\n",
    "\n",
    "### Report\n",
    "\n",
    "Upload to the Lab 6 Report assignment in Canvas the PDF of a brief $\\LaTeX$ report in which you ...\n",
    "- Describe ...\n",
    "  - your design process (simulations).\n",
    "  - the level of agreement between your simulations and measurements. \n",
    "  - the level of agreement between the simulated and empirical frequency ranges within which your circuit produced acceptable output.\n",
    "- Include as figures ...\n",
    "  - The circuit schematic.\n",
    "  - Measured and simulated $V_{out}, V_{in}$ vs. time graphs."
   ]
  }
 ],
 "metadata": {
  "kernelspec": {
   "display_name": "Python 3 (ipykernel)",
   "language": "python",
   "name": "python3"
  },
  "language_info": {
   "codemirror_mode": {
    "name": "ipython",
    "version": 3
   },
   "file_extension": ".py",
   "mimetype": "text/x-python",
   "name": "python",
   "nbconvert_exporter": "python",
   "pygments_lexer": "ipython3",
   "version": "3.12.3"
  }
 },
 "nbformat": 4,
 "nbformat_minor": 4
}
