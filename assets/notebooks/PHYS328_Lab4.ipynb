{
 "cells": [
  {
   "cell_type": "markdown",
   "metadata": {},
   "source": [
    "# PHYS328W Lab 4 Log Book: Diode Circuits"
   ]
  },
  {
   "cell_type": "markdown",
   "metadata": {},
   "source": [
    "## Prep\n",
    "\n",
    "Prepare by reading Section 3 of the notes.\n",
    "\n",
    "> *We will use a special diode with a small diode drop in the demodulator of our AM radio reciever circuit. The demodulator removes the radio-frequency oscillations in the signal, leaving behind the audio component.*"
   ]
  },
  {
   "cell_type": "markdown",
   "metadata": {},
   "source": [
    "## Experiments"
   ]
  },
  {
   "cell_type": "markdown",
   "metadata": {},
   "source": [
    "### Diode - Resistor Voltage Divider\n",
    "\n",
    "![Diode-resistor voltage divider schematic](https://rileyle.github.io/PHYS328W/assets/img/diodevdivider.svg)\n",
    "\n",
    "Figure 1: A diode-resistor voltage divider.\n",
    "\n",
    "The circuit in Figure 1 is called a half-wave rectifier. Investigate the 1N4148, 1N5711, and the two\n",
    "types of Germanium point-contact diodes as follows.\n",
    "\n",
    "1. Use the diode setting on your DMM to measure the forward voltage drop $V_f$ of each of the four types of diode. (We will want to use a diode with a small $V_f$ in our AM radio later in the semester.)\n",
    "\n",
    "2. Construct the circuit in Figure 1 using a 10 k$\\Omega$ resistor and a 1N4148 diode.\n",
    "\n",
    "3. Display $V_{in}$ and $V_{out}$ together on the oscilloscope. Use the cursors (not the automatic measurement) to measure the difference in peak-to-peak voltage of these signals. This difference is the forward voltage drop of the diode.\n",
    "\n",
    "4. Take a picture or export an image of the oscilloscope display for your log book and report."
   ]
  },
  {
   "cell_type": "markdown",
   "metadata": {},
   "source": [
    "### Full-Wave Bridge Rectifier\n",
    "\n",
    "![Full-wave bridge rectifier schematic](https://rileyle.github.io/PHYS328W/assets/img/bridgerectifier.svg)\n",
    "\n",
    "Figure 2: A full-wave bridge rectifier.\n",
    "\n",
    "The arrangement of four diodes in Figure 2 is called a full-wave bridge rectifier. It is a key component used in the conversion of AC to DC power in power supplies and automotive charging systems.\n",
    "\n",
    "1. Construct the circuit in Figure 2 using four 1N4148 diodes and a 10 k$\\Omega$ load resistor.\n",
    "\n",
    "2. Use the function generator as your AC voltage source. Drive the circuit at 1 kHz.\n",
    "\n",
    "3. Use a “cheater plug” (three-prong to two prong adapter) to float the function generator so that your circuit is only grounded at the output. \n",
    "\n",
    "   *Grounding at the input as well would ground both terminals of the lower-left diode in Figure 2, effectively removing it from the circuit.*\n",
    "   \n",
    "4. Display V out on the oscilloscope, and measure the peak-to-peak voltage of the signal. (Due to the floating ground on the function generator, we can’t simultaneously display $V_{out}$ and $V_{in}$.)\n",
    "\n",
    "5. Take a picture or export an image of the oscilloscope display of $V_{out}$ for your log book and report.\n",
    "\n",
    "6. Disconnect the function generator from the circuit, and use the oscilloscope to measure the peak-to-peak voltage of the input signal.\n",
    "\n",
    "7. The difference in the peak-to-peak input and output voltages should be two diode drops ($2V_f$)."
   ]
  },
  {
   "cell_type": "markdown",
   "metadata": {},
   "source": [
    "## Products\n",
    "\n",
    "### Log Book\n",
    "\n",
    "Upload to the Lab 4 Log assignment in Canvas this log book (the `.ipynb` file) along with all of the image files it includes. \n",
    "\n",
    "### Report\n",
    "\n",
    "Upload to the Lab 4 Report assignment in Canvas the PDF of a brief $\\LaTeX$ report in which you ...\n",
    "- Include as figures ...\n",
    "  - The circuit schematics.\n",
    "  - Images of the oscilloscope displays from each circuit.\n",
    "  - Sketches of the bridge rectifier circuit showing how the currents flow when the AC voltage source delivers positive and negative currents.\n",
    "- Report the forward voltage drop measurements of the 1N4148, 1N5711, and both Germanium point-contact diodes.\n",
    "- Comment on the impact of the forward diode drop on the behavior of each circuit."
   ]
  }
 ],
 "metadata": {
  "kernelspec": {
   "display_name": "Python 3",
   "language": "python",
   "name": "python3"
  },
  "language_info": {
   "codemirror_mode": {
    "name": "ipython",
    "version": 3
   },
   "file_extension": ".py",
   "mimetype": "text/x-python",
   "name": "python",
   "nbconvert_exporter": "python",
   "pygments_lexer": "ipython3",
   "version": "3.8.5"
  }
 },
 "nbformat": 4,
 "nbformat_minor": 4
}
