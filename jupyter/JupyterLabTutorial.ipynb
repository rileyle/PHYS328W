{
 "cells": [
  {
   "cell_type": "markdown",
   "metadata": {},
   "source": [
    "# Advanced Lab JupyterLab/Python Tutorial"
   ]
  },
  {
   "cell_type": "markdown",
   "metadata": {},
   "source": [
    "---\n",
    "## Quick Guide"
   ]
  },
  {
   "cell_type": "markdown",
   "metadata": {},
   "source": [
    "### JupyterLab\n",
    "\n",
    "JupyterLab is an interface for managing, editing, and running Jupyter notebooks. Jupyter notebooks consist of a series of cells which are either Code cells for programming or Markdown cells for writing notes. The combination is a powerful tool for writing electronic log books that contain a complete record of experimental work, data, analysis, and results.\n",
    "\n",
    "We have set up JupyterLab so that Code cells understand the [Python](https://www.python.org) programming language. We will use Code cells for calculations, data analysis, and data visualization (plotting). \n",
    "\n",
    "Markdown cells are for writing. (This is a Markdown Cell.) [Markdown](https://daringfireball.net/projects/markdown/syntax) is a simple, text-based language for typesetting, like [LaTeX](https://www.latex-project.org/) but simpler and without math mode. In Jupyter, markdown cells include LaTeX support, so LaTeX equations can be included in Markdown cells.\n",
    "\n",
    "JupyterLab runs in a web browser, but if you have installed it with Anaconda on your laptop, your notebooks are stored on your hard drive, not in the cloud, and you can run JupyterLab offline (without a network connection). "
   ]
  },
  {
   "cell_type": "markdown",
   "metadata": {},
   "source": [
    "### Opening/Creating Notebooks in JupyterLab\n",
    "\n",
    "- To open an existing file using the file browser panel. Open the file browser using the ![https://rileyle.github.io/assets/img/JupyterLab_Files.png](https://rileyle.github.io/assets/img/JupyterLab_Files.png) button in the vertical button bar along the far left edge of the JupyterLab interface.\n",
    "- To create a new notebook, go to the file browser (![https://rileyle.github.io/assets/img/JupyterLab_Files.png](https://rileyle.github.io/assets/img/JupyterLab_Files.png) and use the New Launcher button ![https://rileyle.github.io/assets/img/JupyterLab_Launcher.png](https://rileyle.github.io/assets/img/JupyterLab_Launcher.png). Then, click the Python3 button under Notebook. "
   ]
  },
  {
   "cell_type": "markdown",
   "metadata": {},
   "source": [
    "### Navigating in JupyterLab\n",
    "- Click the Table of Contents button ![https://rileyle.github.io/assets/img/JupyterLab_TOC.png](https://rileyle.github.io/assets/img/JupyterLab_TOC.png) button in the vertical button bar along the far left edge of the JupyterLab interface to see a list of links to all of the Markdown cells starting with headers (`#`, `##`, `###`, `####`). This is great for navigating long notebooks.\n",
    "- There is a scroll bar, and you can use `Page Up` and `Page Down` keys on your keyboard as usual.\n",
    "- You can open multiple tabs, and drag them within the JupyterLab interface to position them in panels. \n",
    "- To view a single notebook in multiple frames use `File -> New View for Notebook`. (Try it.) This is useful, for example, when you want to look at the Experiment part of your log book while you are working on the Analysis."
   ]
  },
  {
   "cell_type": "markdown",
   "metadata": {},
   "source": [
    "### Command Mode and Edit Mode\n",
    "Notebooks have two modes (see the Mode indicator at the bottom right of the JupyterLab console):\n",
    "- **Edit Mode** for editing the contents of cells. Click inside a Code cell or an open (un-rendered) Markdown cell, or double-click on a rendered Markdown cell. A cell in Edit mode behaves like a text editor. You can use `<Ctrl>+X`, `<Ctrl>+C`, and `<Ctrl>+V` to cut, copy, and paste as you would expect.\n",
    "- **Command Mode** for creating, copy/pasting, and deleting cells. Click on the left border of the notebook (avoiding the blue bar, if present, which will minimize the cell) to put it into Command Mode. Right-clicking in a notebook will put it into Command mode and give you a menu of actions. The borders and contents of code cells and open Markdown cells become gray. \n",
    "    - You can move a cell by grabbing its left border and dragging.\n",
    "    - Select a cell by clicking along its left-hand border in the tab. A blue vertical bar will appear along the left border. You can select multiple cells by holding the `<Shift>` key while selecting.\n",
    "    - **Command-Mode Keyboard Shortcuts**\n",
    "        - `A` insert cell above\n",
    "        - `B` insert cell below\n",
    "        - `M` change selected cell to Markdown\n",
    "        - `Y` change selected cell to Python\n",
    "        - `C` copy selected cells\n",
    "        - `V` paste copied/cut cells below\n",
    "        - `X` cut selected cells \n",
    "        - `<Ctrl>+<Shift>+-` split cell at cursor position\n",
    "        - `<Shift>+M` merge selected cells\n",
    "        - `D,D` (press `D` twice) delete selected cells\n",
    "        - `Z` undo last cell operation\n",
    "        - `<Shift>+Z` redo cell operation\n",
    "        - `<Space>` scroll down\n",
    "        - `<Shift>+<Space>` scroll up\n",
    "        - `<Crtl>+S` save the notebook"
   ]
  },
  {
   "cell_type": "markdown",
   "metadata": {},
   "source": [
    "### Editing Cells\n",
    "- Double-click in an existing Markdown cell to edit the contents. \n",
    "- Code cells are always editable. Click inside one to start editing it.\n",
    "- While you are editing a cell you can Undo (`<Ctrl>+Z`) and Redo (`<Ctrl>+<Shift>+Z`)."
   ]
  },
  {
   "cell_type": "markdown",
   "metadata": {},
   "source": [
    "### Executing Code/Rendering Markdown\n",
    "- `<Shift>+<Enter>` to execute a Code cell or render a Markdown cell. This just affects one cell. Any variables and functions already defined are still accessible.\n",
    "- In the button bar at the top of each notebook tab\n",
    "    - ![https://rileyle.github.io/assets/img/JupyterLab_Run_Selected.png](https://rileyle.github.io/assets/img/JupyterLab_Run_Selected.png) **Run the selected cells and advance.** This only executes/renders the selected cells. The Kernel remembers variables, functions, and imported libraries.\n",
    "    - ![https://rileyle.github.io/assets/img/JupyterLab_Interrupt.png](https://rileyle.github.io/assets/img/JupyterLab_Interrupt.png) **Interrupt the kernel.** This stops the execution of Code blocks. Use this if you want to stop a code that takes a long time to run. The Kernel remembers variables, functions, and imported libraries.\n",
    "    - ![https://rileyle.github.io/assets/img/JupyterLab_Restart.png](https://rileyle.github.io/assets/img/JupyterLab_Restart.png) **Restart the kernel.** This clears all variables, functions, and imported libraries.\n",
    "    - ![https://rileyle.github.io/assets/img/JupyterLab_Restart_Run.png](https://rileyle.github.io/assets/img/JupyterLab_Restart_Run.png) **Restart the kernel, then re-run the whole notebook.** This clears all variables, functions, and imported libraries, and executes/renders every cell in order."
   ]
  },
  {
   "cell_type": "markdown",
   "metadata": {},
   "source": [
    "---\n",
    "## Tutorial\n",
    "\n",
    "*This is a set of brief expercises to introduce you to JupyterLab, Python, and Markdown. Moving forward, we will be picking things up as we go along with lots of support. Python and Markdown are such widely-used tools that typing roughly what you want to do into a search engine often turns up excellent guidance.*"
   ]
  },
  {
   "cell_type": "markdown",
   "metadata": {},
   "source": [
    "### Exercise 1: Create and Manipulate Cells in JupyterLab\n",
    "1. **Practice using keyboard shortcuts to create a Code cell below this one. Enter (or copy/paste from here) into the new cell the Python code `print('Why does every programming tutorial begin with printing \"Hello, world!\"?')`. Practice using a keyboard shortcut to execute (run) the cell.** *(Python note: You can surround strings with either single or double quotes. Whichever you choose, you can use the other within a string.)*"
   ]
  },
  {
   "cell_type": "markdown",
   "metadata": {},
   "source": [
    "2. **Use keyboard shortcuts to create a Markdown cell below your first Code cell. Write a sentence introducing the Python program you just wrote. Use a keyboard shortcut to render the cell.**"
   ]
  },
  {
   "cell_type": "markdown",
   "metadata": {},
   "source": [
    "3. **Move the Markdown cell you just created, by clicking on its left border and dragging it, so that it is above the Code cell.**"
   ]
  },
  {
   "cell_type": "markdown",
   "metadata": {},
   "source": [
    "### Exercise 2: Markdown with LaTeX Equations and Images\n",
    "Some resources:\n",
    "- [Markdown Syntax](https://daringfireball.net/projects/markdown/syntax) (Also see the [Markdown Reference](https://commonmark.org/help/) accessible in the Help menu in JupyterLab.)\n",
    "- Markdown cells in Jupyter Notebook support LaTeX. For inline math, enclose the LaTeX math-mode code in dollar signs as you would in a LaTeX document. To typeset an equation on a separate line, begin and end with `$$`.\n",
    "- [LaTeX Mathematics](https://en.wikibooks.org/wiki/LaTeX/Mathematics) guide on wikibooks.org; also see the guides under Mathematics on the [Overleaf Documentation page](https://www.overleaf.com/learn). (You should skip the parts of these guides about LaTeX document setup. You're just looking for the syntax for building mathematical expressions.)"
   ]
  },
  {
   "cell_type": "markdown",
   "metadata": {},
   "source": [
    "1. **Create a new Mardown cell below, and experiment with bullet lists, bold face, italics, and inline and separate LaTeX equations.**<br><br>"
   ]
  },
  {
   "cell_type": "markdown",
   "metadata": {},
   "source": [
    "2. The Markdown syntax for displaying images is `![Alt text](filename)`. You can also use the HTML syntax for displaying an image: `<img src=\"filename\">`. This approach gives you an additional option. You can specify a width in pixels `<img src=\"filename\" width=\"300\">` to scale the image up or down as needed.<br><br>**Take a picture with your phone, tablet, or laptop, and put the file in the same directory as this notebook. Then, add it to the Markdown cell you created in part 1 of this exercise, and experiment with the Markdown and HTML ways of including an image and with setting the size using the `width` paramter.**<br><br>"
   ]
  },
  {
   "cell_type": "markdown",
   "metadata": {},
   "source": [
    "### Exercise 3: Python Lists\n",
    "\n",
    "Python is a very list-driven language, which is one of the reasons it is well-suited to working with data.\n",
    "\n",
    "1. In Python, a comma-delimited set of values enclosed in square brackets is called a list.<br><br>**Create a new Code cell below; copy/paste the code below which defines a list of string values and a list of numerical values and prints them; and execute the cell.**\n",
    "\n",
    "```\n",
    "week_days = ['Monday', 'Tuesday', 'Wednesday', 'Thursday', 'Friday']\n",
    "print(week_days)\n",
    "\n",
    "day_numbers = [0, 1, 2, 3, 4]\n",
    "print(day_numbers)\n",
    "```"
   ]
  },
  {
   "cell_type": "markdown",
   "metadata": {},
   "source": [
    "2. You can access specific values in a list using the variable name followed by an index in square brackets. For example, `week_days[1]` is `'Tuesday'`. *JupyterLab Note: variables that you when you execute Code cells persist in Code cells that you execute later, so the `week_days` and `day_numbers` lists are still defined.*<br><br>**Create a new Code cell below and use this approach to print `Thursday`.** <br><br>"
   ]
  },
  {
   "cell_type": "markdown",
   "metadata": {},
   "source": [
    "3. You can get a sub-list containing the elements from index i to j-1 using the syntax `variable_name[i:j]`.<br><br>**Create a new Code cell, and use this approach to print `['Tuesday', 'Wednesday', 'Thursday']`.**<br><br>"
   ]
  },
  {
   "cell_type": "markdown",
   "metadata": {},
   "source": [
    "4. Python lists have a built-in append() function for adding elements to the end of the list. <br><br>**Create a new Code cell, create an empty `class_days` list (`class days = []`), and use `class_days.append()` to store the days this class meets in the list.**"
   ]
  },
  {
   "cell_type": "markdown",
   "metadata": {},
   "source": [
    "### Exercise 4: Loops in Python: `for`\n",
    "\n",
    "A loop executes a block of code multiple times. The `for` statement in Python executes a block of code once for every item in a list.\n",
    "1. **Execute the code in the following Code cell to see what it does. Modify it to do the same thing to the day_numbers list.**"
   ]
  },
  {
   "cell_type": "code",
   "execution_count": null,
   "metadata": {},
   "outputs": [],
   "source": [
    "for day in week_days:\n",
    "    print(day)"
   ]
  },
  {
   "cell_type": "markdown",
   "metadata": {},
   "source": [
    "2. The built-in Python `range(start, stop, step)` function produces a list-like object with integers from `start` to `stop`, *not including `stop`*, in increments of `step`. The `start` and `step` arguments are 0 and 1 by default and can be omitted if these values are acceptable. The `range()` function is often used with the `for` command to control loops.<br><br>**Execute the code in the following Code cell to see what it does. Modify it to print all of the even numbers from 0 to 10.**"
   ]
  },
  {
   "cell_type": "code",
   "execution_count": null,
   "metadata": {},
   "outputs": [],
   "source": [
    "for number in range(1, 11, 2):\n",
    "    print(number)"
   ]
  },
  {
   "cell_type": "markdown",
   "metadata": {},
   "source": [
    "3. Sometimes it is useful to iterate over a list using the indices of its elements instead of the elements themselves. The Code cell below is an illustration. It uses the built-in Python function `len()` which returns the length of a list and the `range()` function to print the elements of the `week_days` list.<br><br>**Modify this code to print<br><br>Monday<br>Wednesday<br>Friday**"
   ]
  },
  {
   "cell_type": "code",
   "execution_count": null,
   "metadata": {},
   "outputs": [],
   "source": [
    "for i in range(len(week_days)):\n",
    "    print(week_days[i])"
   ]
  },
  {
   "cell_type": "markdown",
   "metadata": {},
   "source": [
    "### Exercise 5:  More Python Flow Control: `if/elif/else`, `while`\n",
    "\n",
    "1. The `if` statement executes an indented bock of code if a condition is `True`. Optional `elif` commands execute other code blocks if additional conditions are `True`. An optional `else:` statement executes a block of code if none of the conditions in the `if/elif` statements above it are `True`. *(Note: when you are testing whether two variables are equal, be careful to use two equals signs ==. The expression `a = b` sets the value of a to the value of b. The expression `a == b` is `True` if the variables are equal and `False` if they aren't.)*<br><br>**Execute the following cell to see what it does. Then, modify it to add \"Go to lab.\" reminders on the day(s) we meet.**"
   ]
  },
  {
   "cell_type": "code",
   "execution_count": null,
   "metadata": {},
   "outputs": [],
   "source": [
    "for day in week_days:\n",
    "    if day == 'Friday':\n",
    "        print(day, \": Yay, it's Friday!\")\n",
    "    else:\n",
    "        print(day)"
   ]
  },
  {
   "cell_type": "markdown",
   "metadata": {},
   "source": [
    "2. The `while` statement is another looping command. It repeatedly executes an indented block of code for as long as its condition is `True`.<br><br>**Execute the Code cell below to see what it does. Then create a new Code block and write a `while` loop that prints all of the odd numbers less than 100.**"
   ]
  },
  {
   "cell_type": "code",
   "execution_count": null,
   "metadata": {},
   "outputs": [],
   "source": [
    "i = 0\n",
    "while i < 10:\n",
    "    print(i)\n",
    "    i = i + 1"
   ]
  },
  {
   "cell_type": "markdown",
   "metadata": {},
   "source": [
    "### Exercise 6: Plotting in Python with `matplotlib`\n",
    "\n",
    "1. The `matplotlib` library provides plotting and animation tools for Python programs. Execute the Code cell below to see what it does. The `from matplotlib import pyplot as plt` command at the top gives us access to the `pyplot` plotting routines in `matplotlib`. This is all we'll need for plotting in this class. (We save memory by only importing what we need.) We also import the `numpy` library, which provides all of the standard mathematical functions among many other things, so that we can plot functions. We also use the `numpy` function `np.arange(start, stop, step)` to make a list of x values for the plot. The `np.arange()` function works the same way as the built-in `range()` function, except that it returns an actual list and the arguments can be floating point numbers. <br><br>**Execute the Code cell below to see what it does. Then, modify the code to plot the sine function in the range $\\mathbf{0 \\leq x \\leq 4 \\pi.}$ (The value of $\\pi$ is accessed with `np.pi`.)**"
   ]
  },
  {
   "cell_type": "code",
   "execution_count": null,
   "metadata": {},
   "outputs": [],
   "source": [
    "from matplotlib import pyplot as plt\n",
    "import numpy as np\n",
    "\n",
    "x = np.arange(0, 10, 0.1)\n",
    "y = np.exp(x)\n",
    "\n",
    "plt.plot(x, y)\n",
    "\n",
    "plt.show()"
   ]
  },
  {
   "cell_type": "markdown",
   "metadata": {},
   "source": [
    "2. The default style for the `plt.plot()` function connects the points with line segments. This is fine for plotting functions, but in a lot of applications, it is better to plot points with markers. You can add an optional third argument to the `plt.plot()` function to control the style and color. \n",
    "    - Markers: `'o'`\n",
    "    - Line segments: `'-'`. \n",
    "    - Markers connected by line segments: `'o-'`\n",
    "    - Dashed line segments `'--'`\n",
    "    - Optionally include colors with b : blue, g : green, r : red, c : cyan, m : magenta, y : yellow, k : black, w : white\n",
    "<br><br>**Modify the plot command in the Code cell below to plot markers in your favorite color (of those available).**"
   ]
  },
  {
   "cell_type": "code",
   "execution_count": null,
   "metadata": {},
   "outputs": [],
   "source": [
    "from matplotlib import pyplot as plt\n",
    "import numpy as np\n",
    "\n",
    "# Fake data for a plotting example\n",
    "x = np.arange(0, 10, 1)\n",
    "y = [0.022, 1.335, 1.144, 2.627,  3.808, \n",
    "     5.950, 5.128, 5.827, 9.219, 10.341]\n",
    "\n",
    "plt.plot(x, y)\n",
    "\n",
    "plt.show()"
   ]
  },
  {
   "cell_type": "markdown",
   "metadata": {},
   "source": [
    "3. We will often want to plot data with error bars. The `matplotlib` provides the `errorbar()` function for that purpose. <br><br>**Paste a copy of the Code cell above below this cell. Define lists `dx` and `dy` containing made-up errors in the x and y values, and change the `plt.plot()` command to `plt.errorbar(x, y, xerr=dx, yerr=dy)`. To specify the format for `plt.errorbar()` function, use an optional `fmt=` argument. For example, `plt.errorbar(x, y, xerr=dx, yerr=dy, fmt='bo')` plots blue markers. (Markers without connecting line segments are best for scatter plots of data like this.) Execute your code to see what it does.**"
   ]
  },
  {
   "cell_type": "markdown",
   "metadata": {},
   "source": [
    "4. The `plt.xlabel()` and `plt.ylabel()` functions label the axes of a plot. The `plt.title()` function defines a title at the top of the plot. Inline LaTeX math can be included in the labels and titles (enclosed in dollar signs) provided that an 'r' appears before the open quotation. So to label the x axis with $\\theta$, use `plt.xlabel(r'$\\theta$')`. <br><br>**Paste a copy of the Code cell from part 3 below this cell, and experiment with adding labels to the axes and a title.**"
   ]
  },
  {
   "cell_type": "code",
   "execution_count": null,
   "metadata": {},
   "outputs": [],
   "source": []
  }
 ],
 "metadata": {
  "kernelspec": {
   "display_name": "Python 3",
   "language": "python",
   "name": "python3"
  },
  "language_info": {
   "codemirror_mode": {
    "name": "ipython",
    "version": 3
   },
   "file_extension": ".py",
   "mimetype": "text/x-python",
   "name": "python",
   "nbconvert_exporter": "python",
   "pygments_lexer": "ipython3",
   "version": "3.8.10"
  }
 },
 "nbformat": 4,
 "nbformat_minor": 4
}
