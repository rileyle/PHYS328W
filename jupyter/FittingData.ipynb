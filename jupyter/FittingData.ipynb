{
 "cells": [
  {
   "cell_type": "markdown",
   "metadata": {},
   "source": [
    "*Each demo below includes a function definition followed by example code using it. The functions do not rely on any global variables. To use the functions, just copy/paste them (including the import statements at the top) into your own Python code or Jupyter notebook.*"
   ]
  },
  {
   "cell_type": "markdown",
   "metadata": {},
   "source": [
    "# Fitting Data (scipy)\n",
    "\n",
    "The scipy.optimize.curve_fit() function can fit nonlinear user-defined functions. \n",
    "Here, I use it for a linear fit."
   ]
  },
  {
   "cell_type": "code",
   "execution_count": 1,
   "metadata": {},
   "outputs": [
    {
     "name": "stdout",
     "output_type": "stream",
     "text": [
      "slope     = 0.929 +/- 0.070\n",
      "intercept = 0.579 +/- 0.436\n",
      "sigma_y   = 0.638\n",
      "R squared = 0.956\n"
     ]
    },
    {
     "data": {
      "image/png": "[encoded data removed]",
      "text/plain": [
       "<Figure size 432x288 with 1 Axes>"
      ]
     },
     "metadata": {
      "needs_background": "light"
     },
     "output_type": "display_data"
    }
   ],
   "source": [
    "#======================================================================\n",
    "# Fit a user-defined function f(x, <parameters>) to the data stored in \n",
    "# lists x (independent variable), y (dependent variable):\n",
    "#\n",
    "#   pars, errs = fit_data(x, y)\n",
    "#\n",
    "# pars: list of best-fit parameters\n",
    "# errs: list of statistical uncertainties in the best-fit parameters\n",
    "#======================================================================\n",
    "import numpy as np\n",
    "import matplotlib.pyplot as plt\n",
    "from scipy.optimize import curve_fit\n",
    "\n",
    "def fit_data(x, y):\n",
    "\n",
    "    # Define the fit function (linear here)\n",
    "    def f(x, m, b): \n",
    "         return m*x + b\n",
    "\n",
    "    # Store the coefficients of the best-fit line and the covariance matrix from the fit.\n",
    "    pars, cov = curve_fit(f, x, y, p0=(0, 0))\n",
    "\n",
    "    # Compute coefficient errors.\n",
    "    errs = np.sqrt(np.diagonal(cov))\n",
    "\n",
    "    # Compute the standard error for the y estimate\n",
    "    # and the coefficient of determination.\n",
    "    SSres = 0\n",
    "    for i in range(len(x)):\n",
    "        SSres += (y[i] - f(x[i], *pars))**2\n",
    "    sigmay = np.sqrt(SSres/(len(x)-2))\n",
    "\n",
    "    SStot = 0\n",
    "    for i in range(len(x)):\n",
    "        SStot += (y[i] - np.mean(y))**2\n",
    "    R2 = 1 - SSres/SStot\n",
    "\n",
    "    return pars, errs, sigmay, R2\n",
    "\n",
    "# Generate some fake data\n",
    "x = np.arange(1.,10.1, 1.)\n",
    "y = x + 2.*(np.random.rand(len(x))-0.5)   # Fold in random scatter\n",
    "\n",
    "pars, errs, sigmay, R2 = fit_data(x, y)\n",
    "\n",
    "line = np.poly1d(pars)\n",
    "\n",
    "plt.plot(x, y, 'bo', x, line(x), 'k-')\n",
    "\n",
    "print('slope     = {0:.3f} +/- {1:.3f}'.format(pars[0], errs[0]))\n",
    "print('intercept = {0:.3f} +/- {1:.3f}'.format(pars[1], errs[1]))\n",
    "print('sigma_y   = {0:.3f}'.format(sigmay))\n",
    "print('R squared = {0:.3f}'.format(R2))"
   ]
  },
  {
   "cell_type": "markdown",
   "metadata": {},
   "source": [
    "# Fitting Data with Uncertainties in Y values (scipy)"
   ]
  },
  {
   "cell_type": "code",
   "execution_count": 2,
   "metadata": {},
   "outputs": [
    {
     "name": "stdout",
     "output_type": "stream",
     "text": [
      "slope     = 1.158 +/- 0.064\n",
      "intercept = -1.225 +/- 0.466\n"
     ]
    },
    {
     "data": {
      "image/png": "[encoded data removed]",
      "text/plain": [
       "<Figure size 432x288 with 1 Axes>"
      ]
     },
     "metadata": {
      "needs_background": "light"
     },
     "output_type": "display_data"
    }
   ],
   "source": [
    "#======================================================================\n",
    "# Fit a user-defined function f(x, <parameters>) to the data stored in \n",
    "# lists x (independent variable), y (dependent variable), and \n",
    "# dy (uncertainty in dependent variable):\n",
    "#\n",
    "#   pars, errs = fit_data_yerr(x, y, dy)\n",
    "#\n",
    "# pars: list of best-fit parameters\n",
    "# errs: list of statistical uncertainties in the best-fit parameters\n",
    "#\n",
    "# The function has \"nonlinear\" in the name, because you can change\n",
    "# f() to any function with any number of parameters.\n",
    "#======================================================================\n",
    "import numpy as np\n",
    "import matplotlib.pyplot as plt\n",
    "from scipy.optimize import curve_fit\n",
    "\n",
    "def fit_data_yerr(x, y, dy):\n",
    "\n",
    "    # Define the fit function (linear here, but you can change this)\n",
    "    def f(x, m, b): \n",
    "         return m*x + b\n",
    "    \n",
    "    # Store the coefficients of the best-fit line and the covariance matrix from the fit.\n",
    "    pars, cov = curve_fit(f, x, y, p0=(0, 0), sigma=dy)\n",
    "\n",
    "    # Compute coefficient errors\n",
    "    errs = np.sqrt(np.diagonal(cov))\n",
    "\n",
    "    return pars, errs\n",
    "\n",
    "# Fake data with uncertainties in y values\n",
    "x = np.arange(1., 10.1, 1.)\n",
    "y = [0.53845859, 2.04661434, 2.50343206, 3.10308575, 4.19652852,  \n",
    "     5.99638737, 7.46771528, 7.12116895, 9.07516995, 10.98666744]\n",
    "dy = [ 1., 0.5, 0.5, 2.0, 0.2, \n",
    "      0.3, 1.0, 0.5, 0.2, 0.3]\n",
    "\n",
    "pars, errs = fit_data_yerr(x, y, dy)\n",
    "\n",
    "line = np.poly1d(pars)\n",
    "\n",
    "plt.errorbar(x, y, yerr = dy, fmt='bo')\n",
    "plt.plot(x, y, 'bo', x, line(x), 'k-')\n",
    "\n",
    "print('slope     = {0:.3f} +/- {1:.3f}'.format(pars[0], errs[0]))\n",
    "print('intercept = {0:.3f} +/- {1:.3f}'.format(pars[1], errs[1]))"
   ]
  }
 ],
 "metadata": {
  "kernelspec": {
   "display_name": "Python 3",
   "language": "python",
   "name": "python3"
  },
  "language_info": {
   "codemirror_mode": {
    "name": "ipython",
    "version": 3
   },
   "file_extension": ".py",
   "mimetype": "text/x-python",
   "name": "python",
   "nbconvert_exporter": "python",
   "pygments_lexer": "ipython3",
   "version": "3.8.5"
  }
 },
 "nbformat": 4,
 "nbformat_minor": 4
}
